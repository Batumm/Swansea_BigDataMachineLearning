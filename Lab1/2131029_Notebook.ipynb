{
  "nbformat": 4,
  "nbformat_minor": 0,
  "metadata": {
    "colab": {
      "name": "2131029_Notebook.ipynb",
      "provenance": [],
      "collapsed_sections": [
        "ljzBC4gmDUoP"
      ],
      "authorship_tag": "ABX9TyPnyi5Vu0SMD989iSv6QEss",
      "include_colab_link": true
    },
    "kernelspec": {
      "name": "python3",
      "display_name": "Python 3"
    },
    "language_info": {
      "name": "python"
    }
  },
  "cells": [
    {
      "cell_type": "markdown",
      "metadata": {
        "id": "view-in-github",
        "colab_type": "text"
      },
      "source": [
        "<a href=\"https://colab.research.google.com/github/Batumm/Swansea_BigDataMachineLearning/blob/main/2131029_Notebook.ipynb\" target=\"_parent\"><img src=\"https://colab.research.google.com/assets/colab-badge.svg\" alt=\"Open In Colab\"/></a>"
      ]
    },
    {
      "cell_type": "markdown",
      "metadata": {
        "id": "ZeivrsJ7sdbx"
      },
      "source": [
        "#Nicolas Bataille\n",
        "26/09/2021\\\n",
        "Student number : 2131029"
      ]
    },
    {
      "cell_type": "code",
      "metadata": {
        "id": "ebnisItsDfEJ"
      },
      "source": [
        "#Imports of needed packages\n",
        "import numpy as np\n",
        "import matplotlib.pyplot as plt"
      ],
      "execution_count": 79,
      "outputs": []
    },
    {
      "cell_type": "code",
      "metadata": {
        "id": "G78UPekhW-yn"
      },
      "source": [
        "#Code needed in order to be able to import files from the Google Drive\n",
        "!pip install -U -q PyDrive\n",
        "from pydrive.auth import GoogleAuth\n",
        "from pydrive.drive import GoogleDrive\n",
        "from google.colab import auth\n",
        "from oauth2client.client import GoogleCredentials"
      ],
      "execution_count": 78,
      "outputs": []
    },
    {
      "cell_type": "code",
      "metadata": {
        "id": "Rv-FAwJ7Mb05"
      },
      "source": [
        "#Authentication to my Google Account\n",
        "auth.authenticate_user()\n",
        "gauth = GoogleAuth()\n",
        "gauth.credentials = GoogleCredentials.get_application_default()\n",
        "drive = GoogleDrive(gauth)"
      ],
      "execution_count": 71,
      "outputs": []
    },
    {
      "cell_type": "markdown",
      "metadata": {
        "id": "-EuH5fiDveYL"
      },
      "source": [
        "#Task 1.1"
      ]
    },
    {
      "cell_type": "markdown",
      "metadata": {
        "id": "Ko8wzgI8wzCR"
      },
      "source": [
        "3."
      ]
    },
    {
      "cell_type": "code",
      "metadata": {
        "colab": {
          "base_uri": "https://localhost:8080/"
        },
        "id": "EVGu26HrshBz",
        "outputId": "ab2fd78e-8162-4acc-c5dd-5c910a980db7"
      },
      "source": [
        "x = 345\n",
        "print(2*x+5**3)"
      ],
      "execution_count": null,
      "outputs": [
        {
          "output_type": "stream",
          "name": "stdout",
          "text": [
            "815\n"
          ]
        }
      ]
    },
    {
      "cell_type": "markdown",
      "metadata": {
        "id": "-YBo3wg1w5Sh"
      },
      "source": [
        "4."
      ]
    },
    {
      "cell_type": "code",
      "metadata": {
        "colab": {
          "base_uri": "https://localhost:8080/"
        },
        "id": "DuY0H8WVuXyL",
        "outputId": "c72445f5-0a1b-403f-e484-7274b42f817b"
      },
      "source": [
        "print(\"Hello World\")"
      ],
      "execution_count": null,
      "outputs": [
        {
          "output_type": "stream",
          "name": "stdout",
          "text": [
            "Hello World\n"
          ]
        }
      ]
    },
    {
      "cell_type": "markdown",
      "metadata": {
        "id": "uXjChWNhw6-M"
      },
      "source": [
        "5."
      ]
    },
    {
      "cell_type": "code",
      "metadata": {
        "id": "MZdv-piXuc4_"
      },
      "source": [
        "def f(\n",
        "    w,x,b):\n",
        "  return ((w*x)+b)"
      ],
      "execution_count": null,
      "outputs": []
    },
    {
      "cell_type": "code",
      "metadata": {
        "colab": {
          "base_uri": "https://localhost:8080/"
        },
        "id": "7vlKRasPu-tK",
        "outputId": "66353680-de0b-4a92-b684-007c52226ab4"
      },
      "source": [
        "print(f(x=345, w=2, b=(5**3)))"
      ],
      "execution_count": null,
      "outputs": [
        {
          "output_type": "stream",
          "name": "stdout",
          "text": [
            "815\n"
          ]
        }
      ]
    },
    {
      "cell_type": "markdown",
      "metadata": {
        "id": "Ivi360CSvloI"
      },
      "source": [
        "#Task 1.2"
      ]
    },
    {
      "cell_type": "markdown",
      "metadata": {
        "id": "cV0QmvymwwiK"
      },
      "source": [
        "1,2."
      ]
    },
    {
      "cell_type": "code",
      "metadata": {
        "colab": {
          "base_uri": "https://localhost:8080/"
        },
        "id": "m_ZjkvT0vnfE",
        "outputId": "98c07955-df20-4001-8c81-5ab888956ea1"
      },
      "source": [
        "my_list = [\n",
        "           \"cat\", \"dog\", \"hamster\", \n",
        "           \"fish\", \"bird\"\n",
        "           ]\n",
        "\n",
        "#Using the len(my_list) allows to add or remove elements without having to \n",
        "#manually change the for loop arguments\n",
        "for i in range(len(my_list)-1, -1, -1):   \n",
        "  print(my_list[i])"
      ],
      "execution_count": null,
      "outputs": [
        {
          "output_type": "stream",
          "name": "stdout",
          "text": [
            "bird\n",
            "fish\n",
            "hamster\n",
            "dog\n",
            "cat\n"
          ]
        }
      ]
    },
    {
      "cell_type": "markdown",
      "metadata": {
        "id": "WC1_XUMixrgx"
      },
      "source": [
        "3."
      ]
    },
    {
      "cell_type": "code",
      "metadata": {
        "colab": {
          "base_uri": "https://localhost:8080/"
        },
        "id": "NTdhyOs4xsW_",
        "outputId": "7d1474c2-c965-4d4a-d274-ffbab8931ef3"
      },
      "source": [
        "def equals_100(x):\n",
        "  if(x == 100):\n",
        "    return True\n",
        "  else:\n",
        "    return False\n",
        "\n",
        "print(equals_100(x = 99))\n",
        "print(equals_100(x = 100))"
      ],
      "execution_count": null,
      "outputs": [
        {
          "output_type": "stream",
          "name": "stdout",
          "text": [
            "False\n",
            "True\n"
          ]
        }
      ]
    },
    {
      "cell_type": "markdown",
      "metadata": {
        "id": "3KNKJUYqyHn4"
      },
      "source": [
        "4."
      ]
    },
    {
      "cell_type": "code",
      "metadata": {
        "id": "YzNsdUi_yImU"
      },
      "source": [
        "my_dictionnary = {\n",
        "    'data_name' : 'Animal counts',\n",
        "    'label' : [\"cat\", \"dog\", \"fish\"],\n",
        "    'count' : [2, 5, 10]\n",
        "}"
      ],
      "execution_count": null,
      "outputs": []
    },
    {
      "cell_type": "markdown",
      "metadata": {
        "id": "eEVLeuoICX0G"
      },
      "source": [
        "5."
      ]
    },
    {
      "cell_type": "code",
      "metadata": {
        "colab": {
          "base_uri": "https://localhost:8080/"
        },
        "id": "UwnLx1ByCYUG",
        "outputId": "f9a5a23b-68ec-4cf8-9c4c-9f8fb10185e7"
      },
      "source": [
        "for i in my_dictionnary:\n",
        "  print(i, \":\")\n",
        "  print(my_dictionnary[i])\n",
        "  print(\" \")"
      ],
      "execution_count": null,
      "outputs": [
        {
          "output_type": "stream",
          "name": "stdout",
          "text": [
            "data_name :\n",
            "Animal counts\n",
            " \n",
            "label :\n",
            "['cat', 'dog', 'fish']\n",
            " \n",
            "count :\n",
            "[2, 5, 10]\n",
            " \n"
          ]
        }
      ]
    },
    {
      "cell_type": "markdown",
      "metadata": {
        "id": "ufUcO_K_CaUX"
      },
      "source": [
        "6."
      ]
    },
    {
      "cell_type": "code",
      "metadata": {
        "colab": {
          "base_uri": "https://localhost:8080/"
        },
        "id": "WWNETo94Ca7q",
        "outputId": "2366bfe5-0c35-4291-a6db-b17823360d0d"
      },
      "source": [
        "print(f'Animal name: {my_dictionnary[\"label\"][1]}, count: {my_dictionnary[\"count\"][1]}')"
      ],
      "execution_count": 82,
      "outputs": [
        {
          "output_type": "stream",
          "name": "stdout",
          "text": [
            "Animal name: dog,       count: 5\n"
          ]
        }
      ]
    },
    {
      "cell_type": "markdown",
      "metadata": {
        "id": "ljzBC4gmDUoP"
      },
      "source": [
        "#Task 1.3"
      ]
    },
    {
      "cell_type": "markdown",
      "metadata": {
        "id": "NB39GL4GDYVY"
      },
      "source": [
        "2."
      ]
    },
    {
      "cell_type": "code",
      "metadata": {
        "colab": {
          "base_uri": "https://localhost:8080/"
        },
        "id": "KXGBqprkDWFn",
        "outputId": "b33bc792-a280-4e26-c898-c33b87fbc720"
      },
      "source": [
        "matrix_x = np.random.randint(10, size=(2,3))\n",
        "matrix_y = np.random.randint(10, size=(3,4))\n",
        "\n",
        "print(matrix_x)\n",
        "print(\" \")\n",
        "print(matrix_y)"
      ],
      "execution_count": null,
      "outputs": [
        {
          "output_type": "stream",
          "name": "stdout",
          "text": [
            "[[5 8 8]\n",
            " [6 4 4]]\n",
            " \n",
            "[[0 9 7 9]\n",
            " [7 7 5 7]\n",
            " [6 3 9 3]]\n"
          ]
        }
      ]
    },
    {
      "cell_type": "markdown",
      "metadata": {
        "id": "Ong8iAQqFNup"
      },
      "source": [
        "3."
      ]
    },
    {
      "cell_type": "code",
      "metadata": {
        "colab": {
          "base_uri": "https://localhost:8080/"
        },
        "id": "8F1L_K_PFOPO",
        "outputId": "bb565244-4e98-4e18-992d-c381bfb9d26f"
      },
      "source": [
        "matrix_mult = np.matmul(matrix_x, matrix_y)\n",
        "print(matrix_mult)"
      ],
      "execution_count": null,
      "outputs": [
        {
          "output_type": "stream",
          "name": "stdout",
          "text": [
            "[[104 125 147 125]\n",
            " [ 52  94  98  94]]\n"
          ]
        }
      ]
    },
    {
      "cell_type": "markdown",
      "metadata": {
        "id": "LxPPxmnpIZhJ"
      },
      "source": [
        "4."
      ]
    },
    {
      "cell_type": "code",
      "metadata": {
        "colab": {
          "base_uri": "https://localhost:8080/"
        },
        "id": "qzDF7k79IZ7W",
        "outputId": "dd47590d-252c-44f9-cbbe-6a00d28aad32"
      },
      "source": [
        "for i in range(0,len(matrix_mult)):\n",
        "  print(matrix_mult[i][0])"
      ],
      "execution_count": null,
      "outputs": [
        {
          "output_type": "stream",
          "name": "stdout",
          "text": [
            "104\n",
            "52\n"
          ]
        }
      ]
    },
    {
      "cell_type": "markdown",
      "metadata": {
        "id": "9ivc2UuCI589"
      },
      "source": [
        "#Task 1.4"
      ]
    },
    {
      "cell_type": "markdown",
      "metadata": {
        "id": "YxVvb3BKJDMP"
      },
      "source": [
        "1."
      ]
    },
    {
      "cell_type": "code",
      "metadata": {
        "id": "JCkr79ZIJD5i"
      },
      "source": [
        "#Importing the npy file from the Google Drive\n",
        "downloaded = drive.CreateFile({'id':'1VJE4kmqaINfilcJBkdg6WvUT2zJRTR5t'}) \n",
        "downloaded.GetContentFile('Iris_data.npy')\n",
        "\n",
        "iris = np.load('Iris_data.npy')"
      ],
      "execution_count": 73,
      "outputs": []
    },
    {
      "cell_type": "markdown",
      "metadata": {
        "id": "I-V7G9aqI-Sd"
      },
      "source": [
        "2.\n"
      ]
    },
    {
      "cell_type": "code",
      "metadata": {
        "id": "Mi6QdHicI8L9",
        "colab": {
          "base_uri": "https://localhost:8080/"
        },
        "outputId": "8346d056-e809-4c24-deab-80c2fd63e322"
      },
      "source": [
        "print(iris.shape)"
      ],
      "execution_count": 76,
      "outputs": [
        {
          "output_type": "stream",
          "name": "stdout",
          "text": [
            "(150, 4)\n"
          ]
        }
      ]
    },
    {
      "cell_type": "markdown",
      "metadata": {
        "id": "WfvlLAJdWK63"
      },
      "source": [
        "3."
      ]
    },
    {
      "cell_type": "code",
      "metadata": {
        "colab": {
          "base_uri": "https://localhost:8080/",
          "height": 295
        },
        "id": "ZZDtXGU_WLdm",
        "outputId": "83516995-547d-4ee7-cbd4-10ae55e9ec72"
      },
      "source": [
        "plt.figure()\n",
        "plt.scatter(iris[:,0], \n",
        "            iris[:,1])\n",
        "\n",
        "plt.xlabel('Sepal length (cm)')\n",
        "plt.ylabel('Sepal width (cm)')\n",
        "plt.title(\"Iris' sepals length by width (cm)\")\n",
        "\n",
        "plt.show()"
      ],
      "execution_count": 81,
      "outputs": [
        {
          "output_type": "display_data",
          "data": {
            "image/png": "[encoded data removed]",
            "text/plain": [
              "<Figure size 432x288 with 1 Axes>"
            ]
          },
          "metadata": {
            "needs_background": "light"
          }
        }
      ]
    }
  ]
}
