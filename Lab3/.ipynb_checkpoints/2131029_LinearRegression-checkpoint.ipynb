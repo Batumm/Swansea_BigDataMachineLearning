{
 "cells": [
  {
   "cell_type": "markdown",
   "id": "2ffc5592",
   "metadata": {},
   "source": [
    "# Nicolas Bataille\n",
    "23/10/2021\\\n",
    "Student Number : 2131029"
   ]
  },
  {
   "cell_type": "code",
   "execution_count": 1,
   "id": "cd958157",
   "metadata": {},
   "outputs": [],
   "source": [
    "# Import packages\n",
    "import numpy as np\n",
    "import matplotlib.pyplot as plt\n",
    "import sklearn as sk\n",
    "from sklearn.linear_model import LinearRegression"
   ]
  },
  {
   "cell_type": "markdown",
   "id": "6523f62d",
   "metadata": {},
   "source": [
    "### Task 3.1"
   ]
  },
  {
   "cell_type": "code",
   "execution_count": 2,
   "id": "c310e12f",
   "metadata": {},
   "outputs": [],
   "source": [
    "# Load the data files\n",
    "xValues = np.load('Datas/x_values.npy')\n",
    "yValues = np.load('Datas/y_values.npy')"
   ]
  },
  {
   "cell_type": "code",
   "execution_count": 3,
   "id": "dcc819ec",
   "metadata": {},
   "outputs": [
    {
     "data": {
      "image/png": "[encoded data removed]",
      "text/plain": [
       "<Figure size 432x288 with 1 Axes>"
      ]
     },
     "metadata": {
      "needs_background": "light"
     },
     "output_type": "display_data"
    }
   ],
   "source": [
    "# Plotting the data with the x values against the y values\n",
    "plt.figure()\n",
    "\n",
    "plt.scatter(xValues,\n",
    "            yValues)\n",
    "\n",
    "plt.ylabel('Y')\n",
    "plt.xlabel('X')\n",
    "plt.title('Datas values')\n",
    "plt.show()"
   ]
  },
  {
   "cell_type": "code",
   "execution_count": 4,
   "id": "8063e3cb",
   "metadata": {},
   "outputs": [
    {
     "data": {
      "text/plain": [
       "LinearRegression()"
      ]
     },
     "execution_count": 4,
     "metadata": {},
     "output_type": "execute_result"
    }
   ],
   "source": [
    "# Create the LinearRegression object and fit it to the datas\n",
    "linearRegression = LinearRegression()\n",
    "linearRegression.fit(xValues, yValues)"
   ]
  },
  {
   "cell_type": "code",
   "execution_count": 5,
   "id": "fc0478d1",
   "metadata": {},
   "outputs": [],
   "source": [
    "# load the test values for our model\n",
    "xTestValues = np.load('Datas/test_x_values.npy')"
   ]
  },
  {
   "cell_type": "code",
   "execution_count": 9,
   "id": "2d03105b",
   "metadata": {},
   "outputs": [],
   "source": [
    "# Make a prediction on the test datas\n",
    "linearRegressionPredict = linearRegression.predict(xTestValues)"
   ]
  },
  {
   "cell_type": "code",
   "execution_count": 27,
   "id": "7e92d34a",
   "metadata": {},
   "outputs": [
    {
     "data": {
      "image/png": "[encoded data removed]",
      "text/plain": [
       "<Figure size 432x288 with 1 Axes>"
      ]
     },
     "metadata": {
      "needs_background": "light"
     },
     "output_type": "display_data"
    }
   ],
   "source": [
    "# Plot the training datas and our prediction\n",
    "plt.figure()\n",
    "\n",
    "plt.plot(xTestValues,\n",
    "         linearRegressionPredict,\n",
    "         label = \"Predicted regression line\")\n",
    "\n",
    "plt.scatter(xValues,\n",
    "            yValues,\n",
    "            label = \"Observed Data\")\n",
    "\n",
    "\n",
    "plt.ylabel('Y')\n",
    "plt.xlabel('X')\n",
    "plt.legend()\n",
    "plt.title('Linear Regression')\n",
    "plt.show()"
   ]
  },
  {
   "cell_type": "code",
   "execution_count": 26,
   "id": "60414f15",
   "metadata": {},
   "outputs": [
    {
     "name": "stdout",
     "output_type": "stream",
     "text": [
      "[[-3.14442237]]\n"
     ]
    }
   ],
   "source": [
    "# Make a prediction on a given x value\n",
    "\n",
    "sampleValue = np.array([[0.48]])\n",
    "\n",
    "linearSamplePrediction = linearRegression.predict(sampleValue)\n",
    "\n",
    "print(linearSamplePrediction)"
   ]
  },
  {
   "cell_type": "markdown",
   "id": "3dbebcda",
   "metadata": {},
   "source": [
    "### Task 3.2"
   ]
  },
  {
   "cell_type": "code",
   "execution_count": null,
   "id": "afb0c324",
   "metadata": {},
   "outputs": [],
   "source": []
  }
 ],
 "metadata": {
  "kernelspec": {
   "display_name": "Python 3 (ipykernel)",
   "language": "python",
   "name": "python3"
  },
  "language_info": {
   "codemirror_mode": {
    "name": "ipython",
    "version": 3
   },
   "file_extension": ".py",
   "mimetype": "text/x-python",
   "name": "python",
   "nbconvert_exporter": "python",
   "pygments_lexer": "ipython3",
   "version": "3.8.10"
  }
 },
 "nbformat": 4,
 "nbformat_minor": 5
}
